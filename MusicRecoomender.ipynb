{
  "nbformat": 4,
  "nbformat_minor": 0,
  "metadata": {
    "colab": {
      "name": "MusicRecoomender.ipynb",
      "provenance": [],
      "collapsed_sections": [],
      "toc_visible": true,
      "include_colab_link": true
    },
    "kernelspec": {
      "name": "python3",
      "display_name": "Python 3"
    },
    "language_info": {
      "name": "python"
    }
  },
  "cells": [
    {
      "cell_type": "markdown",
      "metadata": {
        "id": "view-in-github",
        "colab_type": "text"
      },
      "source": [
        "<a href=\"https://colab.research.google.com/github/sanskar29/Emotionplayer/blob/branch1/MusicRecoomender.ipynb\" target=\"_parent\"><img src=\"https://colab.research.google.com/assets/colab-badge.svg\" alt=\"Open In Colab\"/></a>"
      ]
    },
    {
      "cell_type": "code",
      "metadata": {
        "id": "lCj5PX0g0OQw",
        "colab": {
          "base_uri": "https://localhost:8080/"
        },
        "outputId": "fabd78a0-1e2c-43db-af1f-a3f42300f7ed"
      },
      "source": [
        "from google.colab import drive #hello\n",
        "drive.mount('/content/drive')"
      ],
      "execution_count": null,
      "outputs": [
        {
          "output_type": "stream",
          "name": "stdout",
          "text": [
            "Mounted at /content/drive\n"
          ]
        }
      ]
    },
    {
      "cell_type": "code",
      "metadata": {
        "colab": {
          "base_uri": "https://localhost:8080/"
        },
        "id": "AqCxh6M5ARlT",
        "outputId": "8295a745-7f6b-43e2-81c2-4b45bdbce9e2"
      },
      "source": [
        "#installing mtcnnhello\n",
        "!pip install mtcnn\n"
      ],
      "execution_count": null,
      "outputs": [
        {
          "output_type": "stream",
          "name": "stdout",
          "text": [
            "Requirement already satisfied: mtcnn in /usr/local/lib/python3.7/dist-packages (0.1.1)\n",
            "Requirement already satisfied: opencv-python>=4.1.0 in /usr/local/lib/python3.7/dist-packages (from mtcnn) (4.1.2.30)\n",
            "Requirement already satisfied: keras>=2.0.0 in /usr/local/lib/python3.7/dist-packages (from mtcnn) (2.6.0)\n",
            "Requirement already satisfied: numpy>=1.14.5 in /usr/local/lib/python3.7/dist-packages (from opencv-python>=4.1.0->mtcnn) (1.19.5)\n"
          ]
        }
      ]
    },
    {
      "cell_type": "code",
      "metadata": {
        "id": "4TAE4wSVAl_H"
      },
      "source": [
        "from matplotlib import pyplot as plt\n",
        "from matplotlib.patches import Rectangle\n",
        "from matplotlib.patches import Circle\n",
        "from PIL import Image \n",
        "from numpy import savez_compressed\n",
        "from numpy import asarray\n",
        "from os import listdir\n",
        "from mtcnn.mtcnn import MTCNN\n"
      ],
      "execution_count": null,
      "outputs": []
    },
    {
      "cell_type": "markdown",
      "metadata": {
        "id": "EbFldXS-A8K0"
      },
      "source": [
        "Face Recognition"
      ]
    },
    {
      "cell_type": "code",
      "metadata": {
        "id": "vZQh_vSxAyMq"
      },
      "source": [
        "def extract_face(image):  #image passed as parameter\n",
        "  img1 = Image.open(image)        #opening the image using PIL module    \n",
        "  img1 = img1.convert('RGB')       #convert the image into RGB format  \n",
        "  pixels = asarray(img1)             #convert the pixels in image to an array \n",
        "  detector = MTCNN()                 #object of mtcnn class\n",
        "  f = detector.detect_faces(pixels)   #detect_face function of mtcnn\n",
        "  print(f)\n",
        "  #create a bounding box top lef coordinates x1,y1 followed by width w and height h  \n",
        "  #f is a dictionary with multiple elements and we need to store the coordinates of box from it\n",
        "  x1,y1,w,h = f[0]['box']           \n",
        "  x1, y1 = abs(x1), abs(y1)\n",
        "  x2 = abs(x1+w)\n",
        "  y2 = abs(y1+h)\n",
        "  store_face = pixels[y1:y2,x1:x2] #store faces shown by the coordinate system.\n",
        "  plt.imshow(store_face)\n",
        "  image1 = Image.fromarray(store_face,'RGB')   \n",
        "  image1 = image1.resize((160,160))             \n",
        "  face_array = asarray(image1)                  \n",
        "  return face_array"
      ],
      "execution_count": null,
      "outputs": []
    },
    {
      "cell_type": "markdown",
      "metadata": {
        "id": "auM2ApO1GlWl"
      },
      "source": [
        "Loading the faces"
      ]
    },
    {
      "cell_type": "code",
      "metadata": {
        "id": "Q5ExtHjXIXOU"
      },
      "source": [
        "def load_faces(directory):\n",
        "  face = []\n",
        "  i=1\n",
        "  for filename in listdir(directory):\n",
        "    path = directory + filename\n",
        "    faces = extract_face(path)\n",
        "    face.append(faces)\n",
        "  return face"
      ],
      "execution_count": null,
      "outputs": []
    },
    {
      "cell_type": "markdown",
      "metadata": {
        "id": "JjeKAJUCJuUv"
      },
      "source": [
        "Load the Dataset"
      ]
    },
    {
      "cell_type": "code",
      "metadata": {
        "id": "kyAEoLQNJwKG"
      },
      "source": [
        "def load_dataset(directory):\n",
        "  x, y = [],[]\n",
        "  i=1\n",
        "  for subdir in listdir(directory):\n",
        "    path = directory + subdir + '/'\n",
        "    faces = load_faces(path)\n",
        "    labels = [subdir for _ in range(len(faces))]\n",
        "    print(\"%d There are %d images in the class %s:\"%(i,len(faces),subdir))\n",
        "    x.extend(faces)\n",
        "    y.extend(labels)\n",
        "    i=i+1\n",
        "  return asarray(x),asarray(y)  \n",
        "\n",
        "\n",
        "trainX,trainY = load_dataset('/content/drive/MyDrive/Indian-celebrities/')\n",
        "print(trainX.shape,trainY.shape)\n",
        "savez_compressed('/content/drive/MyDrive/PROJECTS/face recog + mood/Indian-celeb-dataset.npz',trainX,trainY)"
      ],
      "execution_count": null,
      "outputs": []
    }
  ]
}